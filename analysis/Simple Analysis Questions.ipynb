{
 "cells": [
  {
   "cell_type": "markdown",
   "metadata": {},
   "source": [
    "# Evoimage Analysis\n",
    "\n",
    "This is mainly some work for simple figures for a presentation and report about this work"
   ]
  },
  {
   "cell_type": "code",
   "execution_count": 11,
   "metadata": {
    "collapsed": true
   },
   "outputs": [],
   "source": [
    "# Import we use across the notebook\n",
    "\n",
    "import scipy as sp\n",
    "import matplotlib as mpl\n",
    "import matplotlib.pyplot as plt\n",
    "import pandas as pd\n",
    "import seaborn as sea\n",
    "\n",
    "# We have noticed that setting a new style doesn't clear ALL settings,\n",
    "# so this order is important:\n",
    "plt.style.use('classic')               # set to defaults\n",
    "plt.style.use('ggplot')                # ggplot is decent\n",
    "plt.style.use('seaborn')               # but we prefer seaborn\n",
    "plt.style.use('seaborn-colorblind')    # accessibility is important\n",
    "sea.set_style('white')\n",
    "\n",
    "from IPython.display import display\n",
    "\n",
    "%matplotlib inline"
   ]
  },
  {
   "cell_type": "markdown",
   "metadata": {},
   "source": [
    "## Initial Triangle Size\n",
    "\n",
    "We choose our vertices at random from within the image square when we initialize our\n",
    "population. What does the distribution of triangle area look like?\n",
    "\n",
    "We will assume a square image at 128x128 pixels for simplicity sake.\n",
    "\n",
    "We use the **Shoelace Formula** (see https://math.stackexchange.com/a/516223). It is:\n",
    "\n",
    "$Area = \\frac12 \\big| (x_A - x_C) (y_B - y_A) - (x_A - x_B) (y_C - y_A) \\big|$"
   ]
  },
  {
   "cell_type": "code",
   "execution_count": 12,
   "metadata": {
    "collapsed": true
   },
   "outputs": [],
   "source": [
    "#Shoelace formula\n",
    "def tri_area(va, vb, vc):\n",
    "    xa, ya = va\n",
    "    xb, yb = vb\n",
    "    xc, yc = vc\n",
    "    return 0.5 * sp.absolute(((xa - xc) * (yb - ya)) - ((xa - xb) * (yc - ya)))"
   ]
  },
  {
   "cell_type": "code",
   "execution_count": 14,
   "metadata": {},
   "outputs": [
    {
     "data": {
      "text/plain": [
       "count    500000.000000\n",
       "mean          0.076428\n",
       "std           0.067719\n",
       "min           0.000000\n",
       "25%           0.024017\n",
       "50%           0.057159\n",
       "75%           0.110474\n",
       "max           0.464294\n",
       "dtype: float64"
      ]
     },
     "metadata": {},
     "output_type": "display_data"
    },
    {
     "data": {
      "text/plain": [
       "<matplotlib.axes._subplots.AxesSubplot at 0x7f5267518160>"
      ]
     },
     "execution_count": 14,
     "metadata": {},
     "output_type": "execute_result"
    },
    {
     "data": {
      "image/png": "[encoded data removed]",
      "text/plain": [
       "<matplotlib.figure.Figure at 0x7f5267468828>"
      ]
     },
     "metadata": {},
     "output_type": "display_data"
    }
   ],
   "source": [
    "def rand_triangle(dim):\n",
    "    xa, ya, xb, yb, xc, yc = [int(i*dim) for i in sp.rand(6)]\n",
    "    return (xa, ya), (xb, yb), (xc, yc)\n",
    "\n",
    "# Get the areas for 500,000 triangles in 128x128 image\n",
    "areas = sp.array([tri_area(*rand_triangle(128)) for _ in range(500000)])\n",
    "# Scale by area of image\n",
    "areas /= (128*128)\n",
    "\n",
    "# Display/describe\n",
    "areas = pd.Series(areas)\n",
    "display(areas.describe())\n",
    "sea.distplot(areas)"
   ]
  }
 ],
 "metadata": {
  "kernelspec": {
   "display_name": "Python 3",
   "language": "python",
   "name": "python3"
  },
  "language_info": {
   "codemirror_mode": {
    "name": "ipython",
    "version": 3
   },
   "file_extension": ".py",
   "mimetype": "text/x-python",
   "name": "python",
   "nbconvert_exporter": "python",
   "pygments_lexer": "ipython3",
   "version": "3.5.2"
  }
 },
 "nbformat": 4,
 "nbformat_minor": 2
}
